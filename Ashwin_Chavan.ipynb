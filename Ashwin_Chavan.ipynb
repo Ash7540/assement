{
 "cells": [
  {
   "cell_type": "code",
   "execution_count": 1,
   "id": "233af5df-e1b3-440e-91b9-e699fdd98e45",
   "metadata": {},
   "outputs": [],
   "source": [
    "import pandas as pd\n",
    "import numpy as np\n",
    "import matplotlib.pyplot as plt\n",
    "import seaborn as sns"
   ]
  },
  {
   "cell_type": "code",
   "execution_count": 2,
   "id": "200652a6-b1d8-4355-89f9-660bcdd101af",
   "metadata": {},
   "outputs": [
    {
     "data": {
      "text/html": [
       "<div>\n",
       "<style scoped>\n",
       "    .dataframe tbody tr th:only-of-type {\n",
       "        vertical-align: middle;\n",
       "    }\n",
       "\n",
       "    .dataframe tbody tr th {\n",
       "        vertical-align: top;\n",
       "    }\n",
       "\n",
       "    .dataframe thead th {\n",
       "        text-align: right;\n",
       "    }\n",
       "</style>\n",
       "<table border=\"1\" class=\"dataframe\">\n",
       "  <thead>\n",
       "    <tr style=\"text-align: right;\">\n",
       "      <th></th>\n",
       "      <th>input</th>\n",
       "      <th>output</th>\n",
       "    </tr>\n",
       "  </thead>\n",
       "  <tbody>\n",
       "    <tr>\n",
       "      <th>0</th>\n",
       "      <td>-122.740667</td>\n",
       "      <td>-130.572085</td>\n",
       "    </tr>\n",
       "    <tr>\n",
       "      <th>1</th>\n",
       "      <td>-121.531419</td>\n",
       "      <td>-129.938929</td>\n",
       "    </tr>\n",
       "    <tr>\n",
       "      <th>2</th>\n",
       "      <td>-134.917019</td>\n",
       "      <td>-130.141832</td>\n",
       "    </tr>\n",
       "    <tr>\n",
       "      <th>3</th>\n",
       "      <td>-120.605951</td>\n",
       "      <td>-125.760932</td>\n",
       "    </tr>\n",
       "    <tr>\n",
       "      <th>4</th>\n",
       "      <td>-129.894781</td>\n",
       "      <td>-112.785214</td>\n",
       "    </tr>\n",
       "    <tr>\n",
       "      <th>...</th>\n",
       "      <td>...</td>\n",
       "      <td>...</td>\n",
       "    </tr>\n",
       "    <tr>\n",
       "      <th>1692</th>\n",
       "      <td>25.410184</td>\n",
       "      <td>-76.380902</td>\n",
       "    </tr>\n",
       "    <tr>\n",
       "      <th>1693</th>\n",
       "      <td>29.537304</td>\n",
       "      <td>-82.796934</td>\n",
       "    </tr>\n",
       "    <tr>\n",
       "      <th>1694</th>\n",
       "      <td>31.633331</td>\n",
       "      <td>-87.000000</td>\n",
       "    </tr>\n",
       "    <tr>\n",
       "      <th>1695</th>\n",
       "      <td>29.091458</td>\n",
       "      <td>-104.943052</td>\n",
       "    </tr>\n",
       "    <tr>\n",
       "      <th>1696</th>\n",
       "      <td>17.145296</td>\n",
       "      <td>-101.726894</td>\n",
       "    </tr>\n",
       "  </tbody>\n",
       "</table>\n",
       "<p>1697 rows × 2 columns</p>\n",
       "</div>"
      ],
      "text/plain": [
       "           input      output\n",
       "0    -122.740667 -130.572085\n",
       "1    -121.531419 -129.938929\n",
       "2    -134.917019 -130.141832\n",
       "3    -120.605951 -125.760932\n",
       "4    -129.894781 -112.785214\n",
       "...          ...         ...\n",
       "1692   25.410184  -76.380902\n",
       "1693   29.537304  -82.796934\n",
       "1694   31.633331  -87.000000\n",
       "1695   29.091458 -104.943052\n",
       "1696   17.145296 -101.726894\n",
       "\n",
       "[1697 rows x 2 columns]"
      ]
     },
     "execution_count": 2,
     "metadata": {},
     "output_type": "execute_result"
    }
   ],
   "source": [
    "df = pd.read_csv(\"dataframe_.csv\")\n",
    "df"
   ]
  },
  {
   "cell_type": "code",
   "execution_count": 3,
   "id": "63e42515-f154-42bd-8d47-145e8e8e3f41",
   "metadata": {},
   "outputs": [
    {
     "name": "stdout",
     "output_type": "stream",
     "text": [
      "Observations: 1697\n",
      "Variables: 2\n",
      "Cat_cols: 0\n",
      "Num_cols: 2\n",
      "Cat_but_car: 0\n",
      "None\n",
      "count    1696.000000\n",
      "mean        1.159933\n",
      "std        79.005970\n",
      "min      -134.962839\n",
      "1%       -133.130296\n",
      "5%       -124.366669\n",
      "10%      -116.819920\n",
      "20%       -92.852449\n",
      "30%       -46.320562\n",
      "40%       -14.823095\n",
      "50%        10.195194\n",
      "60%        32.633331\n",
      "70%        56.611937\n",
      "80%        80.633331\n",
      "90%       104.361054\n",
      "95%       114.574354\n",
      "99%       128.076325\n",
      "max       134.605775\n",
      "Name: input, dtype: float64\n"
     ]
    },
    {
     "data": {
      "image/png": "[encoded data removed]",
      "text/plain": [
       "<Figure size 432x288 with 1 Axes>"
      ]
     },
     "metadata": {
      "needs_background": "light"
     },
     "output_type": "display_data"
    },
    {
     "name": "stdout",
     "output_type": "stream",
     "text": [
      "count    1696.000000\n",
      "mean      -34.088017\n",
      "std        65.771112\n",
      "min      -132.422167\n",
      "1%       -127.063611\n",
      "5%       -111.000000\n",
      "10%       -99.386909\n",
      "20%       -86.776182\n",
      "30%       -75.181534\n",
      "40%       -63.000000\n",
      "50%       -50.470981\n",
      "60%       -40.445271\n",
      "70%       -25.876783\n",
      "80%        16.391781\n",
      "90%        84.642175\n",
      "95%       112.652706\n",
      "99%       131.000000\n",
      "max       134.425495\n",
      "Name: output, dtype: float64\n"
     ]
    },
    {
     "data": {
      "image/png": "[encoded data removed]",
      "text/plain": [
       "<Figure size 432x288 with 1 Axes>"
      ]
     },
     "metadata": {
      "needs_background": "light"
     },
     "output_type": "display_data"
    },
    {
     "name": "stdout",
     "output_type": "stream",
     "text": [
      "None\n"
     ]
    },
    {
     "data": {
      "image/png": "[encoded data removed]",
      "text/plain": [
       "<Figure size 864x1440 with 1 Axes>"
      ]
     },
     "metadata": {
      "needs_background": "light"
     },
     "output_type": "display_data"
    },
    {
     "data": {
      "image/png": "[encoded data removed]",
      "text/plain": [
       "<Figure size 432x288 with 1 Axes>"
      ]
     },
     "metadata": {
      "needs_background": "light"
     },
     "output_type": "display_data"
    },
    {
     "name": "stdout",
     "output_type": "stream",
     "text": [
      "None\n"
     ]
    }
   ],
   "source": [
    "# ***Numerical and Categorical Features***\n",
    "\n",
    "def grab_col_names(dataframe, cat_th=10, car_th=20):\n",
    "    # Catgeorical Variable Selection\n",
    "    cat_cols = [col for col in dataframe.columns if str(dataframe[col].dtypes) in [\"category\", \"object\", \"bool\"]]\n",
    "    num_but_cat = [col for col in dataframe.columns if\n",
    "                   dataframe[col].nunique() < cat_th and dataframe[col].dtypes in [\"uint8\", \"int64\", \"float64\"]]\n",
    "    cat_but_car = [col for col in dataframe.columns if\n",
    "                   dataframe[col].nunique() > car_th and str(dataframe[col].dtypes) in [\"category\", \"object\"]]\n",
    "    cat_cols = cat_cols + num_but_cat\n",
    "    cat_cols = [col for col in cat_cols if col not in cat_but_car]\n",
    "\n",
    "    # Numerical Variable Selection\n",
    "    num_cols = [col for col in dataframe.columns if dataframe[col].dtypes in [\"uint8\", \"int64\", \"float64\"]]\n",
    "    num_cols = [col for col in num_cols if col not in cat_cols]\n",
    "\n",
    "    return cat_cols, num_cols, cat_but_car\n",
    "\n",
    "\n",
    "cat_cols, num_cols, cat_but_car = grab_col_names(df)\n",
    "\n",
    "# Print Categorical and Numerical Variables\n",
    "print(f\"Observations: {df.shape[0]}\")\n",
    "print(f\"Variables: {df.shape[1]}\")\n",
    "print(f\"Cat_cols: {len(cat_cols)}\")\n",
    "print(f\"Num_cols: {len(num_cols)}\")\n",
    "print(f\"Cat_but_car: {len(cat_but_car)}\")\n",
    "\n",
    "\n",
    "def cat_summary(dataframe, col_name, plot=False):\n",
    "    print(pd.DataFrame({col_name: dataframe[col_name].value_counts(),\n",
    "                        'Ration': 100 * dataframe[col_name].value_counts() / len(dataframe)}))\n",
    "    print(\"##########################################\")\n",
    "    if plot:\n",
    "        sns.countplot(x=dataframe[col_name], data=dataframe)\n",
    "        plt.show(block=True)\n",
    "\n",
    "\n",
    "def cat_summary_df(dataframe):\n",
    "    cat_cols, num_cols, cat_but_car = grab_col_names(df)\n",
    "    for col in cat_cols:\n",
    "        cat_summary(dataframe, col, plot=True)\n",
    "\n",
    "print(cat_summary_df(df))\n",
    "\n",
    "def num_summary(dataframe, num_col, plot=False):\n",
    "  quantiles = [0.01, 0.05, 0.10, 0.20, 0.30, 0.40, 0.50, 0.60, 0.70, 0.80, 0.90, 0.95, 0.99]\n",
    "  print(dataframe[num_col].describe(quantiles).T)\n",
    "\n",
    "  if plot:\n",
    "    dataframe[num_col].hist(bins=20)\n",
    "    plt.xlabel(num_col)\n",
    "    plt.title(num_col)\n",
    "    plt.show(block=True)\n",
    "\n",
    "def num_summary_df(dataframe):\n",
    "  cat_cols, num_cols, cat_but_car = grab_col_names(df)\n",
    "  for col in num_cols:\n",
    "    num_summary(dataframe, col, plot=True)\n",
    "\n",
    "print(num_summary_df(df))\n",
    "\n",
    "def plot_num_summary(dataframe):\n",
    "  cat_cols, num_cols, cat_but_car = grab_col_names(dataframe)\n",
    "  plt.figure(figsize=(12, 20))\n",
    "  for index, col in enumerate(num_cols):\n",
    "    plt.subplot(2, 4, index+1)\n",
    "    plt.tight_layout()\n",
    "    dataframe[col].hist(bins=20)\n",
    "    plt.title(col)\n",
    "    plt.show()\n",
    "\n",
    "print(plot_num_summary(df))\n"
   ]
  },
  {
   "cell_type": "code",
   "execution_count": 4,
   "id": "5de3ba96-6840-48da-9e9a-25eb13c6b638",
   "metadata": {},
   "outputs": [
    {
     "data": {
      "image/png": "[encoded data removed]",
      "text/plain": [
       "<Figure size 720x720 with 4 Axes>"
      ]
     },
     "metadata": {
      "needs_background": "light"
     },
     "output_type": "display_data"
    },
    {
     "name": "stdout",
     "output_type": "stream",
     "text": [
      "None\n"
     ]
    }
   ],
   "source": [
    "# ***EDA- Histplot and Boxplot***\n",
    "\n",
    "import scipy.stats as stats\n",
    "def exploratory_data(dataframe):\n",
    "    import warnings\n",
    "    warnings.filterwarnings('ignore')\n",
    "    cat_cols, num_cols, cat_but_car = grab_col_names(dataframe)\n",
    "    fig, ax = plt.subplots(2, 2, figsize=(10, 10))\n",
    "    sns.set(font_scale=2)\n",
    "    for index, col in enumerate(num_cols):\n",
    "        sns.histplot(dataframe[col], ax=ax[index, 0])\n",
    "        sns.boxplot(dataframe[col], ax=ax[index, 1])\n",
    "        # stats.probplot(dataframe[col], plot=ax[index, 2])\n",
    "    fig.tight_layout()\n",
    "    fig.subplots_adjust(top=0.95)\n",
    "    plt.suptitle(\"Visualizing Continuous Columns\")\n",
    "    plt.show()\n",
    "\n",
    "print(exploratory_data(df))"
   ]
  },
  {
   "cell_type": "code",
   "execution_count": 5,
   "id": "770cfd6c-dbd1-4df2-a6d4-ff60cdef4dce",
   "metadata": {},
   "outputs": [
    {
     "data": {
      "text/plain": [
       "input     1\n",
       "output    1\n",
       "dtype: int64"
      ]
     },
     "execution_count": 5,
     "metadata": {},
     "output_type": "execute_result"
    }
   ],
   "source": [
    "# ***Visualizing Missing Data***\n",
    "df.isnull().sum()"
   ]
  },
  {
   "cell_type": "code",
   "execution_count": 6,
   "id": "a780474b-613f-4278-a0a9-0b75459f9d42",
   "metadata": {},
   "outputs": [],
   "source": [
    "df['input'] = df['input'].fillna(df['input'].mode()[0])\n",
    "df['output'] = df['output'].fillna(df['output'].mode()[0])"
   ]
  },
  {
   "cell_type": "code",
   "execution_count": 7,
   "id": "9a1f3da1-3e77-4532-9569-4814b05e147b",
   "metadata": {},
   "outputs": [
    {
     "data": {
      "text/plain": [
       "input     0\n",
       "output    0\n",
       "dtype: int64"
      ]
     },
     "execution_count": 7,
     "metadata": {},
     "output_type": "execute_result"
    }
   ],
   "source": [
    "df.isnull().sum()"
   ]
  },
  {
   "cell_type": "code",
   "execution_count": 8,
   "id": "46e4ca0f-c10b-4aa9-b0e0-7fe89601fe62",
   "metadata": {},
   "outputs": [
    {
     "data": {
      "text/plain": [
       "<AxesSubplot:xlabel='input'>"
      ]
     },
     "execution_count": 8,
     "metadata": {},
     "output_type": "execute_result"
    },
    {
     "data": {
      "image/png": "[encoded data removed]",
      "text/plain": [
       "<Figure size 432x288 with 1 Axes>"
      ]
     },
     "metadata": {},
     "output_type": "display_data"
    }
   ],
   "source": [
    "import seaborn as sns\n",
    "sns.boxplot(df['input'])"
   ]
  },
  {
   "cell_type": "code",
   "execution_count": 9,
   "id": "fa9e968e-6068-4b49-85b5-a892a1f9601b",
   "metadata": {},
   "outputs": [
    {
     "data": {
      "text/plain": [
       "<AxesSubplot:xlabel='output'>"
      ]
     },
     "execution_count": 9,
     "metadata": {},
     "output_type": "execute_result"
    },
    {
     "data": {
      "image/png": "[encoded data removed]",
      "text/plain": [
       "<Figure size 432x288 with 1 Axes>"
      ]
     },
     "metadata": {},
     "output_type": "display_data"
    }
   ],
   "source": [
    "import seaborn as sns\n",
    "sns.boxplot(df['output'])"
   ]
  },
  {
   "cell_type": "code",
   "execution_count": 10,
   "id": "64af014f-d5f6-4fb8-be84-957817c73880",
   "metadata": {},
   "outputs": [
    {
     "data": {
      "image/png": "[encoded data removed]",
      "text/plain": [
       "<Figure size 432x288 with 1 Axes>"
      ]
     },
     "metadata": {},
     "output_type": "display_data"
    }
   ],
   "source": [
    "for i in df['output']:\n",
    "  q1=df['output'].quantile(0.25)\n",
    "  q3=df['output'].quantile(0.75)\n",
    "  iqr=q3-q1\n",
    "  Lower_tail=q1-1.5*iqr\n",
    "  Upper_tail=q3+1.5*iqr\n",
    "  if i > Upper_tail or i < Lower_tail:\n",
    "    df['output']=df['output'].replace(i,np.median(df['output']))\n",
    "sns.boxplot(df['output'])\n",
    "plt.show()"
   ]
  },
  {
   "cell_type": "code",
   "execution_count": 11,
   "id": "60cb307c-6130-4f6f-bcca-44ee8729c08f",
   "metadata": {},
   "outputs": [
    {
     "name": "stdout",
     "output_type": "stream",
     "text": [
      "input False\n",
      "output True\n"
     ]
    }
   ],
   "source": [
    "def outlier_thresholds(dataframe, col_name, q1=0.25, q3=0.75):\n",
    "    quartile1 = dataframe[col_name].quantile(q1)\n",
    "    quartile3 = dataframe[col_name].quantile(q3)\n",
    "    interquartile_range = quartile3 - quartile1\n",
    "    low_limit = quartile1 - 1.5 * interquartile_range\n",
    "    up_limit = quartile3 + 1.5 * interquartile_range\n",
    "    return low_limit, up_limit\n",
    "\n",
    "\n",
    "def check_outlier(dataframe, col_name):\n",
    "    low_limit, up_limit = outlier_thresholds(dataframe, col_name)\n",
    "    if dataframe[(dataframe[col_name] > up_limit) | (dataframe[col_name] < low_limit)].any(axis=None):\n",
    "        return True\n",
    "    else:\n",
    "        return False\n",
    "\n",
    "for col in df.columns:\n",
    "    print(col, check_outlier(df, col))"
   ]
  },
  {
   "cell_type": "code",
   "execution_count": null,
   "id": "b1e2434f-94fe-4e57-8c4d-c7b0a47cdad0",
   "metadata": {},
   "outputs": [],
   "source": [
    "from sklearn.linear_model import LinearRegression\n",
    "X = df.iloc[:, 0].values.reshape(-1, 1)  \n",
    "Y = df.iloc[:, 1].values.reshape(-1, 1)  \n",
    "model = LinearRegression()  \n",
    "model.fit(X, Y)  \n",
    "Y_pred = model.predict(X)  "
   ]
  },
  {
   "cell_type": "code",
   "execution_count": null,
   "id": "bb2fd6c8-32fe-45c2-98ed-97051630e51e",
   "metadata": {},
   "outputs": [
    {
     "data": {
      "image/png": "[encoded data removed]",
      "text/plain": [
       "<Figure size 432x288 with 1 Axes>"
      ]
     },
     "metadata": {},
     "output_type": "display_data"
    }
   ],
   "source": [
    "plt.scatter(X, Y)\n",
    "plt.plot(X, Y_pred, color='red')\n",
    "plt.show()"
   ]
  },
  {
   "cell_type": "code",
   "execution_count": 14,
   "id": "c9db1dd3-228d-478a-80d6-3451c8bd9a9d",
   "metadata": {},
   "outputs": [
    {
     "name": "stdout",
     "output_type": "stream",
     "text": [
      "0.14193056278264238 0.1414243271264669\n"
     ]
    }
   ],
   "source": [
    "import statsmodels.api as sm\n",
    "X_addC = sm.add_constant(X)\n",
    "result = sm.OLS(Y, X_addC).fit()\n",
    "print(result.rsquared, result.rsquared_adj)"
   ]
  },
  {
   "cell_type": "code",
   "execution_count": 20,
   "id": "22934189-ba07-40d5-bbb4-7a37cd047782",
   "metadata": {},
   "outputs": [
    {
     "name": "stdout",
     "output_type": "stream",
     "text": [
      "[  2   4   3 ... 157  64  78]\n"
     ]
    }
   ],
   "source": [
    "X = df.drop(['output'],axis=1)\n",
    "y = df['output']\n",
    "from sklearn import preprocessing\n",
    "from sklearn import utils\n",
    "\n",
    "#convert y values to categorical values\n",
    "lab = preprocessing.LabelEncoder()\n",
    "y_transformed = lab.fit_transform(y)\n",
    "\n",
    "#view transformed values\n",
    "print(y_transformed)\n",
    "\n",
    "# separate dataset into train and test\n",
    "from sklearn.model_selection import train_test_split\n",
    "X_train, X_test, y_train, y_test = train_test_split(\n",
    "    X,\n",
    "    y_transformed,\n",
    "    test_size=0.3,\n",
    "    random_state=0)"
   ]
  },
  {
   "cell_type": "code",
   "execution_count": 18,
   "id": "e9b1c7c4-2a12-4d33-997d-3e70cbe37061",
   "metadata": {},
   "outputs": [
    {
     "name": "stdout",
     "output_type": "stream",
     "text": [
      "[  2   4   3 ... 157  64  78]\n"
     ]
    }
   ],
   "source": []
  },
  {
   "cell_type": "code",
   "execution_count": null,
   "id": "aaa3d225-e936-47a0-8acc-8d807475bc08",
   "metadata": {},
   "outputs": [
    {
     "name": "stdout",
     "output_type": "stream",
     "text": [
      "[[1 0 0 ... 0 0 0]\n",
      " [0 1 0 ... 0 0 0]\n",
      " [0 0 1 ... 0 0 0]\n",
      " ...\n",
      " [0 0 0 ... 0 0 0]\n",
      " [0 0 0 ... 0 0 0]\n",
      " [0 0 0 ... 0 0 0]]\n",
      "\n",
      "\n",
      "              precision    recall  f1-score   support\n",
      "\n",
      "           3       1.00      1.00      1.00         1\n",
      "           4       1.00      1.00      1.00         1\n",
      "           6       0.50      1.00      0.67         1\n",
      "           8       1.00      1.00      1.00         1\n",
      "           9       0.33      1.00      0.50         1\n",
      "          10       1.00      1.00      1.00         1\n",
      "          12       1.00      1.00      1.00         1\n",
      "          13       0.00      0.00      0.00         0\n",
      "          14       0.00      0.00      0.00         1\n",
      "          15       0.33      1.00      0.50         1\n",
      "          16       0.50      1.00      0.67         1\n",
      "          17       1.00      1.00      1.00         1\n",
      "          19       0.00      0.00      0.00         0\n",
      "          20       1.00      1.00      1.00         1\n",
      "          23       1.00      1.00      1.00         1\n",
      "          25       1.00      1.00      1.00         1\n",
      "          27       1.00      1.00      1.00         1\n",
      "          28       1.00      1.00      1.00         1\n",
      "          29       0.00      0.00      0.00         0\n",
      "          31       0.00      0.00      0.00         1\n",
      "          32       1.00      1.00      1.00         1\n",
      "          33       0.00      0.00      0.00         0\n",
      "          34       0.00      0.00      0.00         2\n",
      "          35       0.00      0.00      0.00         2\n",
      "          40       0.50      1.00      0.67         1\n",
      "          43       1.00      1.00      1.00         1\n",
      "          46       0.00      0.00      0.00         2\n",
      "          47       0.00      0.00      0.00         0\n",
      "          48       1.00      1.00      1.00         1\n",
      "          49       0.00      0.00      0.00         0\n",
      "          51       0.00      0.00      0.00         1\n",
      "          58       1.00      1.00      1.00         1\n",
      "          59       1.00      1.00      1.00         1\n",
      "          61       1.00      1.00      1.00         1\n",
      "          62       0.00      0.00      0.00         1\n",
      "          63       1.00      1.00      1.00         1\n",
      "          64       1.00      1.00      1.00         1\n",
      "          65       0.00      0.00      0.00         1\n",
      "          66       0.00      0.00      0.00         2\n",
      "          67       0.00      0.00      0.00         1\n",
      "          69       1.00      1.00      1.00         1\n",
      "          70       0.00      0.00      0.00         0\n",
      "          72       0.00      0.00      0.00         1\n",
      "          75       1.00      1.00      1.00         1\n",
      "          76       1.00      1.00      1.00         1\n",
      "          78       0.33      1.00      0.50         1\n",
      "          79       0.00      0.00      0.00         2\n",
      "          80       1.00      1.00      1.00         1\n",
      "          81       0.00      0.00      0.00         2\n",
      "          82       1.00      1.00      1.00         1\n",
      "          83       1.00      1.00      1.00         1\n",
      "          84       1.00      1.00      1.00         1\n",
      "          85       0.00      0.00      0.00         1\n",
      "          86       0.50      1.00      0.67         1\n",
      "          88       0.00      0.00      0.00         1\n",
      "          94       0.00      0.00      0.00         1\n",
      "          95       1.00      1.00      1.00         1\n",
      "          97       0.00      0.00      0.00         2\n",
      "         100       1.00      1.00      1.00         1\n",
      "         101       0.50      1.00      0.67         1\n",
      "         103       0.50      1.00      0.67         1\n",
      "         104       0.00      0.00      0.00         0\n",
      "         106       1.00      1.00      1.00         1\n",
      "         107       0.00      0.00      0.00         0\n",
      "         109       0.47      0.78      0.58         9\n",
      "         112       1.00      1.00      1.00         1\n",
      "         116       1.00      1.00      1.00         1\n",
      "         120       0.00      0.00      0.00         0\n",
      "         121       0.00      0.00      0.00         4\n",
      "         123       1.00      1.00      1.00         1\n",
      "         124       1.00      1.00      1.00         1\n",
      "         125       1.00      1.00      1.00         1\n",
      "         127       0.50      1.00      0.67         1\n",
      "         132       0.00      0.00      0.00         0\n",
      "         134       0.00      0.00      0.00         2\n",
      "         135       1.00      1.00      1.00         1\n",
      "         136       1.00      1.00      1.00         1\n",
      "         137       1.00      1.00      1.00         1\n",
      "         139       0.33      0.50      0.40         2\n",
      "         142       0.00      0.00      0.00         0\n",
      "         143       0.00      0.00      0.00         0\n",
      "         144       1.00      1.00      1.00         1\n",
      "         145       0.00      0.00      0.00         0\n",
      "         146       0.00      0.00      0.00         2\n",
      "         147       0.00      0.00      0.00         1\n",
      "         150       0.00      0.00      0.00         1\n",
      "         154       0.00      0.00      0.00         1\n",
      "         155       0.33      1.00      0.50         1\n",
      "         157       0.00      0.00      0.00         1\n",
      "         161       0.50      1.00      0.67         1\n",
      "         162       0.00      0.00      0.00         2\n",
      "         163       0.00      0.00      0.00         1\n",
      "         165       0.00      0.00      0.00         1\n",
      "         168       0.00      0.00      0.00         1\n",
      "         170       1.00      1.00      1.00         1\n",
      "         171       0.50      1.00      0.67         1\n",
      "         173       0.00      0.00      0.00         1\n",
      "         174       1.00      1.00      1.00         1\n",
      "         175       1.00      1.00      1.00         1\n",
      "         176       0.00      0.00      0.00         0\n",
      "         179       0.33      1.00      0.50         1\n",
      "         180       0.00      0.00      0.00         0\n",
      "         183       0.00      0.00      0.00         2\n",
      "         187       0.00      0.00      0.00         1\n",
      "         190       1.00      1.00      1.00         1\n",
      "         191       0.00      0.00      0.00         2\n",
      "         192       0.50      1.00      0.67         1\n",
      "         193       1.00      1.00      1.00         1\n",
      "         198       0.00      0.00      0.00         1\n",
      "         199       1.00      1.00      1.00         1\n",
      "         200       1.00      1.00      1.00         1\n",
      "         201       0.00      0.00      0.00         1\n",
      "         202       0.00      0.00      0.00         1\n",
      "         203       1.00      1.00      1.00         1\n",
      "         204       1.00      1.00      1.00         1\n",
      "         205       0.00      0.00      0.00         2\n",
      "         206       0.00      0.00      0.00         1\n",
      "         207       0.00      0.00      0.00         1\n",
      "         208       0.00      0.00      0.00         2\n",
      "         210       1.00      1.00      1.00         1\n",
      "         211       0.00      0.00      0.00         0\n",
      "         212       0.00      0.00      0.00         0\n",
      "         213       1.00      1.00      1.00         1\n",
      "         215       1.00      1.00      1.00         1\n",
      "         216       0.00      0.00      0.00         1\n",
      "         217       0.00      0.00      0.00         1\n",
      "         218       0.00      0.00      0.00         1\n",
      "         219       0.00      0.00      0.00         0\n",
      "         220       1.00      1.00      1.00         1\n",
      "         224       0.00      0.00      0.00         1\n",
      "         225       0.00      0.00      0.00         2\n",
      "         227       1.00      1.00      1.00         1\n",
      "         230       0.00      0.00      0.00         3\n",
      "         231       1.00      1.00      1.00         1\n",
      "         232       0.00      0.00      0.00         0\n",
      "         234       1.00      1.00      1.00         1\n",
      "         235       1.00      1.00      1.00         1\n",
      "         236       0.00      0.00      0.00         1\n",
      "         237       1.00      1.00      1.00         1\n",
      "         238       0.00      0.00      0.00         1\n",
      "         240       0.00      0.00      0.00         2\n",
      "         241       0.00      0.00      0.00         0\n",
      "         243       1.00      1.00      1.00         1\n",
      "         246       0.00      0.00      0.00         1\n",
      "         247       1.00      1.00      1.00         1\n",
      "         248       0.00      0.00      0.00         1\n",
      "         249       0.00      0.00      0.00         0\n",
      "         251       0.00      0.00      0.00         1\n",
      "         252       0.50      1.00      0.67         1\n",
      "         253       0.00      0.00      0.00         2\n",
      "         255       1.00      1.00      1.00         2\n",
      "         256       0.33      1.00      0.50         1\n",
      "         257       0.00      0.00      0.00         0\n",
      "         260       0.00      0.00      0.00         0\n",
      "         261       1.00      1.00      1.00         1\n",
      "         262       1.00      1.00      1.00         1\n",
      "         263       1.00      1.00      1.00         1\n",
      "         264       0.50      1.00      0.67         1\n",
      "         265       0.00      0.00      0.00         1\n",
      "         266       0.00      0.00      0.00         1\n",
      "         267       0.00      0.00      0.00         0\n",
      "         268       0.00      0.00      0.00         0\n",
      "         269       1.00      1.00      1.00         1\n",
      "         270       1.00      1.00      1.00         1\n",
      "         273       0.50      1.00      0.67         1\n",
      "         274       0.00      0.00      0.00         1\n",
      "         275       1.00      1.00      1.00         1\n",
      "         277       1.00      1.00      1.00         1\n",
      "         278       1.00      1.00      1.00         1\n",
      "         279       0.00      0.00      0.00         1\n",
      "         280       0.00      0.00      0.00         2\n",
      "         281       0.67      1.00      0.80         2\n",
      "         284       0.00      0.00      0.00         1\n",
      "         285       0.00      0.00      0.00         1\n",
      "         286       0.00      0.00      0.00         0\n",
      "         292       0.00      0.00      0.00         1\n",
      "         293       0.00      0.00      0.00         1\n",
      "         294       1.00      1.00      1.00         1\n",
      "         295       0.00      0.00      0.00         1\n",
      "         299       0.00      0.00      0.00         2\n",
      "         300       1.00      1.00      1.00         1\n",
      "         301       0.00      0.00      0.00         1\n",
      "         303       1.00      1.00      1.00         1\n",
      "         304       0.00      0.00      0.00         2\n",
      "         307       0.00      0.00      0.00         2\n",
      "         308       0.00      0.00      0.00         1\n",
      "         309       1.00      1.00      1.00         1\n",
      "         310       1.00      1.00      1.00         1\n",
      "         313       1.00      1.00      1.00         1\n",
      "         314       1.00      1.00      1.00         1\n",
      "         316       1.00      1.00      1.00         1\n",
      "         317       0.00      0.00      0.00         2\n",
      "         318       1.00      1.00      1.00         1\n",
      "         319       0.00      0.00      0.00         1\n",
      "         320       1.00      0.50      0.67         2\n",
      "         322       1.00      1.00      1.00         1\n",
      "         326       1.00      0.33      0.50         3\n",
      "         328       0.50      1.00      0.67         1\n",
      "         330       1.00      1.00      1.00         1\n",
      "         331       1.00      1.00      1.00         1\n",
      "         335       0.00      0.00      0.00         1\n",
      "         339       1.00      1.00      1.00         1\n",
      "         340       0.00      0.00      0.00         0\n",
      "         342       1.00      1.00      1.00         1\n",
      "         343       1.00      1.00      1.00         1\n",
      "         344       1.00      1.00      1.00         1\n",
      "         347       0.00      0.00      0.00         0\n",
      "         349       1.00      1.00      1.00         1\n",
      "         350       1.00      1.00      1.00         1\n",
      "         351       0.00      0.00      0.00         0\n",
      "         353       0.00      0.00      0.00         0\n",
      "         357       0.00      0.00      0.00         1\n",
      "         358       0.00      0.00      0.00         1\n",
      "         359       1.00      1.00      1.00         1\n",
      "         360       1.00      1.00      1.00         1\n",
      "         361       1.00      1.00      1.00         1\n",
      "         363       0.00      0.00      0.00         2\n",
      "         364       0.00      0.00      0.00         1\n",
      "         365       0.00      0.00      0.00         2\n",
      "         367       1.00      1.00      1.00         1\n",
      "         371       0.00      0.00      0.00         1\n",
      "         372       1.00      1.00      1.00         1\n",
      "         373       1.00      1.00      1.00         1\n",
      "         376       0.00      0.00      0.00         1\n",
      "         378       1.00      1.00      1.00         1\n",
      "         384       0.00      0.00      0.00         0\n",
      "         385       1.00      1.00      1.00         1\n",
      "         387       0.50      1.00      0.67         1\n",
      "         388       0.00      0.00      0.00         0\n",
      "         389       1.00      1.00      1.00         1\n",
      "         390       1.00      1.00      1.00         1\n",
      "         392       0.00      0.00      0.00         1\n",
      "         393       0.00      0.00      0.00         0\n",
      "         395       1.00      0.33      0.50         3\n",
      "         399       0.00      0.00      0.00         0\n",
      "         402       0.00      0.00      0.00         0\n",
      "         403       0.33      0.50      0.40         2\n",
      "         405       0.00      0.00      0.00         0\n",
      "         407       0.00      0.00      0.00         0\n",
      "         408       1.00      1.00      1.00         1\n",
      "         409       0.00      0.00      0.00         0\n",
      "         410       0.00      0.00      0.00         1\n",
      "         411       0.00      0.00      0.00         2\n",
      "         412       1.00      1.00      1.00         1\n",
      "         416       0.33      1.00      0.50         1\n",
      "         419       1.00      1.00      1.00         1\n",
      "         420       1.00      1.00      1.00         1\n",
      "         421       0.00      0.00      0.00         1\n",
      "         422       0.00      0.00      0.00         0\n",
      "         423       0.00      0.00      0.00         0\n",
      "         424       1.00      1.00      1.00         1\n",
      "         426       0.00      0.00      0.00         0\n",
      "         427       0.00      0.00      0.00         0\n",
      "         428       1.00      0.50      0.67         2\n",
      "         431       0.75      0.79      0.77        91\n",
      "         432       0.00      0.00      0.00         1\n",
      "         435       1.00      1.00      1.00         1\n",
      "         437       0.00      0.00      0.00         1\n",
      "         438       0.00      0.00      0.00         1\n",
      "         439       0.00      0.00      0.00         2\n",
      "         440       0.50      1.00      0.67         1\n",
      "         444       1.00      1.00      1.00         1\n",
      "         450       1.00      1.00      1.00         1\n",
      "         451       0.00      0.00      0.00         2\n",
      "         457       1.00      1.00      1.00         1\n",
      "         460       0.33      1.00      0.50         1\n",
      "         461       1.00      0.50      0.67         2\n",
      "         462       0.00      0.00      0.00         0\n",
      "         463       0.00      0.00      0.00         1\n",
      "         465       0.00      0.00      0.00         0\n",
      "         468       0.00      0.00      0.00         1\n",
      "         469       1.00      1.00      1.00         1\n",
      "         472       0.00      0.00      0.00         1\n",
      "         474       0.00      0.00      0.00         0\n",
      "         475       0.50      1.00      0.67         1\n",
      "         476       0.00      0.00      0.00         0\n",
      "         478       1.00      0.50      0.67         2\n",
      "         481       1.00      1.00      1.00         1\n",
      "         483       0.00      0.00      0.00         1\n",
      "         484       1.00      1.00      1.00         1\n",
      "         486       1.00      1.00      1.00         1\n",
      "         487       1.00      1.00      1.00         1\n",
      "         488       1.00      1.00      1.00         1\n",
      "         489       1.00      0.67      0.80         3\n",
      "         490       0.00      0.00      0.00         1\n",
      "         492       0.50      1.00      0.67         1\n",
      "         494       1.00      1.00      1.00         1\n",
      "         496       1.00      1.00      1.00         1\n",
      "         497       0.00      0.00      0.00         2\n",
      "         498       1.00      1.00      1.00         1\n",
      "         501       0.00      0.00      0.00         1\n",
      "         502       0.00      0.00      0.00         0\n",
      "         504       0.00      0.00      0.00         2\n",
      "         507       0.00      0.00      0.00         0\n",
      "         508       1.00      1.00      1.00         1\n",
      "         509       0.00      0.00      0.00         0\n",
      "         512       0.00      0.00      0.00         0\n",
      "         513       0.00      0.00      0.00         1\n",
      "         518       0.00      0.00      0.00         0\n",
      "         522       1.00      1.00      1.00         1\n",
      "         523       0.00      0.00      0.00         1\n",
      "         524       1.00      0.25      0.40         4\n",
      "         525       0.00      0.00      0.00         1\n",
      "         529       1.00      1.00      1.00         1\n",
      "         532       0.00      0.00      0.00         1\n",
      "         533       0.00      0.00      0.00         1\n",
      "         536       0.00      0.00      0.00         1\n",
      "         537       1.00      1.00      1.00         1\n",
      "         538       0.00      0.00      0.00         0\n",
      "         539       1.00      1.00      1.00         1\n",
      "         540       0.00      0.00      0.00         0\n",
      "         544       1.00      1.00      1.00         1\n",
      "         547       0.00      0.00      0.00         0\n",
      "         549       1.00      1.00      1.00         1\n",
      "         551       1.00      1.00      1.00         1\n",
      "         554       1.00      1.00      1.00         1\n",
      "         555       0.00      0.00      0.00         0\n",
      "         556       1.00      1.00      1.00         1\n",
      "         558       0.00      0.00      0.00         0\n",
      "         559       1.00      1.00      1.00         1\n",
      "         562       0.00      0.00      0.00         1\n",
      "         563       0.00      0.00      0.00         1\n",
      "         564       0.00      0.00      0.00         1\n",
      "         566       1.00      0.50      0.67         2\n",
      "         567       0.00      0.00      0.00         1\n",
      "         568       0.33      1.00      0.50         1\n",
      "         569       0.00      0.00      0.00         2\n",
      "         570       0.50      1.00      0.67         1\n",
      "         572       1.00      1.00      1.00         1\n",
      "         573       0.00      0.00      0.00         2\n",
      "         576       0.00      0.00      0.00         0\n",
      "         577       1.00      1.00      1.00         1\n",
      "         579       1.00      1.00      1.00         1\n",
      "         581       1.00      1.00      1.00         1\n",
      "         582       0.50      1.00      0.67         2\n",
      "         583       0.00      0.00      0.00         1\n",
      "         584       0.00      0.00      0.00         1\n",
      "         585       1.00      1.00      1.00         1\n",
      "         589       0.50      1.00      0.67         1\n",
      "         590       0.00      0.00      0.00         2\n",
      "         591       0.00      0.00      0.00         1\n",
      "         593       0.00      0.00      0.00         2\n",
      "         594       1.00      1.00      1.00         1\n",
      "         596       1.00      1.00      1.00         1\n",
      "         598       1.00      1.00      1.00         1\n",
      "         600       0.00      0.00      0.00         0\n",
      "         607       1.00      1.00      1.00         1\n",
      "         608       1.00      1.00      1.00         1\n",
      "         610       0.00      0.00      0.00         0\n",
      "         611       0.00      0.00      0.00         1\n",
      "         613       0.00      0.00      0.00         0\n",
      "         614       0.00      0.00      0.00         2\n",
      "         615       0.00      0.00      0.00         0\n",
      "         616       0.00      0.00      0.00         1\n",
      "         623       0.00      0.00      0.00         1\n",
      "         624       1.00      1.00      1.00         1\n",
      "         628       0.50      1.00      0.67         1\n",
      "         629       0.00      0.00      0.00         1\n",
      "         630       0.25      1.00      0.40         1\n",
      "         631       1.00      1.00      1.00         1\n",
      "         633       0.00      0.00      0.00         0\n",
      "         636       0.00      0.00      0.00         0\n",
      "         639       1.00      1.00      1.00         1\n",
      "         640       0.00      0.00      0.00         0\n",
      "         641       1.00      1.00      1.00         1\n",
      "         646       1.00      1.00      1.00         1\n",
      "         647       1.00      1.00      1.00         1\n",
      "         648       1.00      1.00      1.00         1\n",
      "         649       1.00      1.00      1.00         1\n",
      "         650       1.00      1.00      1.00         1\n",
      "         652       0.00      0.00      0.00         1\n",
      "         653       0.00      0.00      0.00         1\n",
      "         655       1.00      1.00      1.00         1\n",
      "         656       0.00      0.00      0.00         0\n",
      "         657       0.00      0.00      0.00         0\n",
      "         664       1.00      1.00      1.00         1\n",
      "         666       0.00      0.00      0.00         1\n",
      "         667       0.00      0.00      0.00         1\n",
      "         668       0.00      0.00      0.00         1\n",
      "         669       1.00      1.00      1.00         1\n",
      "         670       0.00      0.00      0.00         0\n",
      "         671       1.00      1.00      1.00         1\n",
      "         674       0.00      0.00      0.00         1\n",
      "         675       1.00      1.00      1.00         1\n",
      "         678       0.00      0.00      0.00         1\n",
      "         679       1.00      1.00      1.00         1\n",
      "         682       1.00      1.00      1.00         1\n",
      "         683       0.00      0.00      0.00         0\n",
      "         684       0.00      0.00      0.00         0\n",
      "         685       0.33      1.00      0.50         1\n",
      "         688       0.00      0.00      0.00         1\n",
      "         693       0.00      0.00      0.00         1\n",
      "         695       0.50      1.00      0.67         1\n",
      "         696       1.00      1.00      1.00         1\n",
      "         697       1.00      1.00      1.00         1\n",
      "         699       0.00      0.00      0.00         2\n",
      "         701       0.00      0.00      0.00         0\n",
      "         706       0.00      0.00      0.00         1\n",
      "         707       0.00      0.00      0.00         0\n",
      "         708       0.33      1.00      0.50         1\n",
      "         709       0.00      0.00      0.00         1\n",
      "         710       1.00      1.00      1.00         1\n",
      "         711       0.00      0.00      0.00         1\n",
      "         713       0.00      0.00      0.00         0\n",
      "         714       1.00      1.00      1.00         1\n",
      "         715       0.00      0.00      0.00         1\n",
      "         720       0.50      1.00      0.67         1\n",
      "         722       1.00      1.00      1.00         1\n",
      "         723       0.00      0.00      0.00         2\n",
      "         725       0.00      0.00      0.00         1\n",
      "         726       0.00      0.00      0.00         1\n",
      "         728       0.00      0.00      0.00         0\n",
      "         729       0.25      1.00      0.40         1\n",
      "         730       1.00      1.00      1.00         1\n",
      "         731       0.00      0.00      0.00         0\n",
      "         732       1.00      1.00      1.00         1\n",
      "         735       0.00      0.00      0.00         1\n",
      "         736       0.00      0.00      0.00         1\n",
      "         737       0.00      0.00      0.00         1\n",
      "         742       0.00      0.00      0.00         1\n",
      "         743       0.00      0.00      0.00         1\n",
      "         744       0.00      0.00      0.00         1\n",
      "         746       0.00      0.00      0.00         1\n",
      "         747       0.00      0.00      0.00         0\n",
      "         748       0.00      0.00      0.00         1\n",
      "         749       0.00      0.00      0.00         0\n",
      "         750       0.00      0.00      0.00         1\n",
      "         755       0.00      0.00      0.00         0\n",
      "         756       0.00      0.00      0.00         1\n",
      "         757       0.00      0.00      0.00         1\n",
      "\n",
      "    accuracy                           0.57       510\n",
      "   macro avg       0.43      0.47      0.44       510\n",
      "weighted avg       0.53      0.57      0.54       510\n",
      "\n"
     ]
    }
   ],
   "source": [
    "from sklearn.ensemble import RandomForestClassifier\n",
    "classifier = RandomForestClassifier(n_estimators = 100)\n",
    "classifier.fit(X_train, y_train)\n",
    "\n",
    "\n",
    "# Predicting the Test set results\n",
    "y_pred = classifier.predict(X_test)\n",
    "\n",
    "from sklearn.metrics import confusion_matrix\n",
    "cm_test = confusion_matrix(y_pred, y_test)\n",
    "\n",
    "y_pred_train = classifier.predict(X_train)\n",
    "cm_train = confusion_matrix(y_pred_train, y_train)\n",
    "\n",
    "pred_prob1 = classifier.predict_proba(X_test)\n",
    "\n",
    "from sklearn.metrics import classification_report, confusion_matrix\n",
    "print(confusion_matrix(y_test, y_pred))\n",
    "print('\\n')\n",
    "print(classification_report(y_test, y_pred))"
   ]
  },
  {
   "cell_type": "markdown",
   "id": "8157f1bb-da36-45ca-befe-3f2c0bd59824",
   "metadata": {},
   "source": [
    "From the obersavtion it can be said that random forest is good model for this dataset.\n",
    "As it has good accuracy and the model evaluation is a"
   ]
  }
 ],
 "metadata": {
  "kernelspec": {
   "display_name": "Python 3 (ipykernel)",
   "language": "python",
   "name": "python3"
  },
  "language_info": {
   "codemirror_mode": {
    "name": "ipython",
    "version": 3
   },
   "file_extension": ".py",
   "mimetype": "text/x-python",
   "name": "python",
   "nbconvert_exporter": "python",
   "pygments_lexer": "ipython3",
   "version": "3.9.12"
  }
 },
 "nbformat": 4,
 "nbformat_minor": 5
}
